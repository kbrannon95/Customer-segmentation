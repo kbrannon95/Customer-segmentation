{
 "cells": [
  {
   "cell_type": "markdown",
   "id": "74779e9a",
   "metadata": {},
   "source": [
    "## Bank Customer EDA & Customer Segmentation"
   ]
  },
  {
   "cell_type": "code",
   "execution_count": 20,
   "id": "5d20e025",
   "metadata": {},
   "outputs": [],
   "source": [
    "import os\n",
    "import pandas as pd\n",
    "import numpy as np\n",
    "\n",
    "import matplotlib.pyplot as plt\n",
    "import seaborn as sns\n",
    "\n",
    "sns.set(style=\"whitegrid\")"
   ]
  },
  {
   "cell_type": "markdown",
   "id": "79e6ed08",
   "metadata": {},
   "source": [
    "### Data Pre-processing"
   ]
  },
  {
   "cell_type": "code",
   "execution_count": 21,
   "id": "da3351e1",
   "metadata": {},
   "outputs": [
    {
     "data": {
      "text/html": [
       "<div>\n",
       "<style scoped>\n",
       "    .dataframe tbody tr th:only-of-type {\n",
       "        vertical-align: middle;\n",
       "    }\n",
       "\n",
       "    .dataframe tbody tr th {\n",
       "        vertical-align: top;\n",
       "    }\n",
       "\n",
       "    .dataframe thead th {\n",
       "        text-align: right;\n",
       "    }\n",
       "</style>\n",
       "<table border=\"1\" class=\"dataframe\">\n",
       "  <thead>\n",
       "    <tr style=\"text-align: right;\">\n",
       "      <th></th>\n",
       "      <th>TransactionID</th>\n",
       "      <th>CustomerID</th>\n",
       "      <th>CustomerDOB</th>\n",
       "      <th>CustGender</th>\n",
       "      <th>CustLocation</th>\n",
       "      <th>CustAccountBalance</th>\n",
       "      <th>TransactionDate</th>\n",
       "      <th>TransactionTime</th>\n",
       "      <th>TransactionAmount (INR)</th>\n",
       "    </tr>\n",
       "  </thead>\n",
       "  <tbody>\n",
       "    <tr>\n",
       "      <th>0</th>\n",
       "      <td>T1</td>\n",
       "      <td>C5841053</td>\n",
       "      <td>10/1/94</td>\n",
       "      <td>F</td>\n",
       "      <td>JAMSHEDPUR</td>\n",
       "      <td>17819.05</td>\n",
       "      <td>2/8/16</td>\n",
       "      <td>143207</td>\n",
       "      <td>25.0</td>\n",
       "    </tr>\n",
       "    <tr>\n",
       "      <th>1</th>\n",
       "      <td>T2</td>\n",
       "      <td>C2142763</td>\n",
       "      <td>4/4/57</td>\n",
       "      <td>M</td>\n",
       "      <td>JHAJJAR</td>\n",
       "      <td>2270.69</td>\n",
       "      <td>2/8/16</td>\n",
       "      <td>141858</td>\n",
       "      <td>27999.0</td>\n",
       "    </tr>\n",
       "    <tr>\n",
       "      <th>2</th>\n",
       "      <td>T3</td>\n",
       "      <td>C4417068</td>\n",
       "      <td>26/11/96</td>\n",
       "      <td>F</td>\n",
       "      <td>MUMBAI</td>\n",
       "      <td>17874.44</td>\n",
       "      <td>2/8/16</td>\n",
       "      <td>142712</td>\n",
       "      <td>459.0</td>\n",
       "    </tr>\n",
       "    <tr>\n",
       "      <th>3</th>\n",
       "      <td>T4</td>\n",
       "      <td>C5342380</td>\n",
       "      <td>14/9/73</td>\n",
       "      <td>F</td>\n",
       "      <td>MUMBAI</td>\n",
       "      <td>866503.21</td>\n",
       "      <td>2/8/16</td>\n",
       "      <td>142714</td>\n",
       "      <td>2060.0</td>\n",
       "    </tr>\n",
       "    <tr>\n",
       "      <th>4</th>\n",
       "      <td>T5</td>\n",
       "      <td>C9031234</td>\n",
       "      <td>24/3/88</td>\n",
       "      <td>F</td>\n",
       "      <td>NAVI MUMBAI</td>\n",
       "      <td>6714.43</td>\n",
       "      <td>2/8/16</td>\n",
       "      <td>181156</td>\n",
       "      <td>1762.5</td>\n",
       "    </tr>\n",
       "  </tbody>\n",
       "</table>\n",
       "</div>"
      ],
      "text/plain": [
       "  TransactionID CustomerID CustomerDOB CustGender CustLocation  \\\n",
       "0            T1   C5841053     10/1/94          F   JAMSHEDPUR   \n",
       "1            T2   C2142763      4/4/57          M      JHAJJAR   \n",
       "2            T3   C4417068    26/11/96          F       MUMBAI   \n",
       "3            T4   C5342380     14/9/73          F       MUMBAI   \n",
       "4            T5   C9031234     24/3/88          F  NAVI MUMBAI   \n",
       "\n",
       "   CustAccountBalance TransactionDate  TransactionTime  \\\n",
       "0            17819.05          2/8/16           143207   \n",
       "1             2270.69          2/8/16           141858   \n",
       "2            17874.44          2/8/16           142712   \n",
       "3           866503.21          2/8/16           142714   \n",
       "4             6714.43          2/8/16           181156   \n",
       "\n",
       "   TransactionAmount (INR)  \n",
       "0                     25.0  \n",
       "1                  27999.0  \n",
       "2                    459.0  \n",
       "3                   2060.0  \n",
       "4                   1762.5  "
      ]
     },
     "execution_count": 21,
     "metadata": {},
     "output_type": "execute_result"
    }
   ],
   "source": [
    "df = pd.read_csv('./data/bank_transactions.csv')\n",
    "df.head()"
   ]
  },
  {
   "cell_type": "code",
   "execution_count": 22,
   "id": "2c4cccb5",
   "metadata": {
    "scrolled": true
   },
   "outputs": [
    {
     "data": {
      "text/plain": [
       "TransactionID               object\n",
       "CustomerID                  object\n",
       "CustomerDOB                 object\n",
       "CustGender                  object\n",
       "CustLocation                object\n",
       "CustAccountBalance         float64\n",
       "TransactionDate             object\n",
       "TransactionTime              int64\n",
       "TransactionAmount (INR)    float64\n",
       "dtype: object"
      ]
     },
     "execution_count": 22,
     "metadata": {},
     "output_type": "execute_result"
    }
   ],
   "source": [
    "df.dtypes"
   ]
  },
  {
   "cell_type": "markdown",
   "id": "eeaf49a4",
   "metadata": {},
   "source": [
    "#### Check data for missing values"
   ]
  },
  {
   "cell_type": "code",
   "execution_count": 23,
   "id": "8fb2d9a2",
   "metadata": {
    "scrolled": true
   },
   "outputs": [
    {
     "name": "stdout",
     "output_type": "stream",
     "text": [
      "TransactionID                 0\n",
      "CustomerID                    0\n",
      "CustomerDOB                3397\n",
      "CustGender                 1100\n",
      "CustLocation                151\n",
      "CustAccountBalance         2369\n",
      "TransactionDate               0\n",
      "TransactionTime               0\n",
      "TransactionAmount (INR)       0\n",
      "dtype: int64\n"
     ]
    }
   ],
   "source": [
    "print(df.isna().sum())"
   ]
  },
  {
   "cell_type": "markdown",
   "id": "0c60b0de",
   "metadata": {},
   "source": [
    "#### Since our datasat has almost 1M transactions, lets remove rows with any columns containing null data"
   ]
  },
  {
   "cell_type": "code",
   "execution_count": 24,
   "id": "7ae01421",
   "metadata": {
    "scrolled": true
   },
   "outputs": [
    {
     "data": {
      "text/plain": [
       "TransactionID              0\n",
       "CustomerID                 0\n",
       "CustomerDOB                0\n",
       "CustGender                 0\n",
       "CustLocation               0\n",
       "CustAccountBalance         0\n",
       "TransactionDate            0\n",
       "TransactionTime            0\n",
       "TransactionAmount (INR)    0\n",
       "dtype: int64"
      ]
     },
     "execution_count": 24,
     "metadata": {},
     "output_type": "execute_result"
    }
   ],
   "source": [
    "df = df.dropna()\n",
    "df.isna().sum()"
   ]
  },
  {
   "cell_type": "markdown",
   "id": "c547c93e",
   "metadata": {},
   "source": [
    "#### Let's now check the dataset for duplicate rows"
   ]
  },
  {
   "cell_type": "code",
   "execution_count": 25,
   "id": "84da1b12",
   "metadata": {},
   "outputs": [
    {
     "name": "stdout",
     "output_type": "stream",
     "text": [
      "Empty DataFrame\n",
      "Columns: [TransactionID, CustomerID, CustomerDOB, CustGender, CustLocation, CustAccountBalance, TransactionDate, TransactionTime, TransactionAmount (INR)]\n",
      "Index: []\n"
     ]
    }
   ],
   "source": [
    "print(df[df.duplicated()])"
   ]
  },
  {
   "cell_type": "markdown",
   "id": "52932a06",
   "metadata": {},
   "source": [
    "#### There are no duplicated rows, so lets check the distribution of data for relevant features "
   ]
  },
  {
   "cell_type": "code",
   "execution_count": 26,
   "id": "1ba918a9",
   "metadata": {
    "scrolled": true
   },
   "outputs": [
    {
     "data": {
      "text/plain": [
       "1/1/1800    56292\n",
       "1/1/89        809\n",
       "1/1/90        784\n",
       "6/8/91        698\n",
       "1/1/91        665\n",
       "            ...  \n",
       "2/12/51         1\n",
       "20/3/52         1\n",
       "26/9/47         1\n",
       "4/10/41         1\n",
       "24/10/44        1\n",
       "Name: CustomerDOB, Length: 17233, dtype: int64"
      ]
     },
     "execution_count": 26,
     "metadata": {},
     "output_type": "execute_result"
    }
   ],
   "source": [
    "df['CustomerDOB'].value_counts()"
   ]
  },
  {
   "cell_type": "markdown",
   "id": "1eb23ce8",
   "metadata": {},
   "source": [
    "#### We see that there are roughly 56,000 transactions where the user's DOB was in the year 1800. We will assume this is erroneous data and remove those rows. We also see that there is a large amount of Jan 1 birthdays, likely the result of users not wanting to put in their real birthday; however, due to lack of information we will leave these rows but keep in mind for future analysis"
   ]
  },
  {
   "cell_type": "code",
   "execution_count": 27,
   "id": "e5e987be",
   "metadata": {
    "scrolled": true
   },
   "outputs": [
    {
     "data": {
      "text/plain": [
       "1/1/89      809\n",
       "1/1/90      784\n",
       "6/8/91      698\n",
       "1/1/91      665\n",
       "1/1/92      631\n",
       "           ... \n",
       "23/2/05       1\n",
       "28/11/42      1\n",
       "23/9/49       1\n",
       "14/3/40       1\n",
       "24/10/44      1\n",
       "Name: CustomerDOB, Length: 17232, dtype: int64"
      ]
     },
     "execution_count": 27,
     "metadata": {},
     "output_type": "execute_result"
    }
   ],
   "source": [
    "df = df[~(df['CustomerDOB'] == '1/1/1800')]\n",
    "df['CustomerDOB'].value_counts()"
   ]
  },
  {
   "cell_type": "markdown",
   "id": "219a65a3",
   "metadata": {},
   "source": [
    "#### Check to see if there are any duplicated transaction IDs"
   ]
  },
  {
   "cell_type": "code",
   "execution_count": 28,
   "id": "91bcd240",
   "metadata": {},
   "outputs": [
    {
     "data": {
      "text/plain": [
       "0"
      ]
     },
     "execution_count": 28,
     "metadata": {},
     "output_type": "execute_result"
    }
   ],
   "source": [
    "df['TransactionID'].duplicated().sum()"
   ]
  },
  {
   "cell_type": "markdown",
   "id": "3e009d34",
   "metadata": {},
   "source": [
    "#### We see that gender falls exclusively into two groups, with almost three times as many transactions by men than women "
   ]
  },
  {
   "cell_type": "code",
   "execution_count": 29,
   "id": "a3b31244",
   "metadata": {},
   "outputs": [
    {
     "data": {
      "text/plain": [
       "M    712454\n",
       "F    272868\n",
       "Name: CustGender, dtype: int64"
      ]
     },
     "execution_count": 29,
     "metadata": {},
     "output_type": "execute_result"
    }
   ],
   "source": [
    "df['CustGender'].value_counts()"
   ]
  },
  {
   "cell_type": "markdown",
   "id": "0ffceae8",
   "metadata": {},
   "source": [
    "#### Transactions took place in over 8,000 different locations"
   ]
  },
  {
   "cell_type": "code",
   "execution_count": 30,
   "id": "b426c0a0",
   "metadata": {
    "scrolled": true
   },
   "outputs": [
    {
     "data": {
      "text/plain": [
       "8164"
      ]
     },
     "execution_count": 30,
     "metadata": {},
     "output_type": "execute_result"
    }
   ],
   "source": [
    "len(df['CustLocation'].unique())"
   ]
  },
  {
   "cell_type": "markdown",
   "id": "722cb5cb",
   "metadata": {},
   "source": [
    "#### Quick metrics on numerical transaction data"
   ]
  },
  {
   "cell_type": "code",
   "execution_count": 31,
   "id": "044148db",
   "metadata": {},
   "outputs": [
    {
     "data": {
      "text/html": [
       "<div>\n",
       "<style scoped>\n",
       "    .dataframe tbody tr th:only-of-type {\n",
       "        vertical-align: middle;\n",
       "    }\n",
       "\n",
       "    .dataframe tbody tr th {\n",
       "        vertical-align: top;\n",
       "    }\n",
       "\n",
       "    .dataframe thead th {\n",
       "        text-align: right;\n",
       "    }\n",
       "</style>\n",
       "<table border=\"1\" class=\"dataframe\">\n",
       "  <thead>\n",
       "    <tr style=\"text-align: right;\">\n",
       "      <th></th>\n",
       "      <th>CustAccountBalance</th>\n",
       "      <th>TransactionAmount (INR)</th>\n",
       "    </tr>\n",
       "  </thead>\n",
       "  <tbody>\n",
       "    <tr>\n",
       "      <th>count</th>\n",
       "      <td>9.853220e+05</td>\n",
       "      <td>9.853220e+05</td>\n",
       "    </tr>\n",
       "    <tr>\n",
       "      <th>mean</th>\n",
       "      <td>1.060612e+05</td>\n",
       "      <td>1.452425e+03</td>\n",
       "    </tr>\n",
       "    <tr>\n",
       "      <th>std</th>\n",
       "      <td>8.179054e+05</td>\n",
       "      <td>6.139765e+03</td>\n",
       "    </tr>\n",
       "    <tr>\n",
       "      <th>min</th>\n",
       "      <td>0.000000e+00</td>\n",
       "      <td>0.000000e+00</td>\n",
       "    </tr>\n",
       "    <tr>\n",
       "      <th>25%</th>\n",
       "      <td>4.582132e+03</td>\n",
       "      <td>1.510000e+02</td>\n",
       "    </tr>\n",
       "    <tr>\n",
       "      <th>50%</th>\n",
       "      <td>1.600630e+04</td>\n",
       "      <td>4.310000e+02</td>\n",
       "    </tr>\n",
       "    <tr>\n",
       "      <th>75%</th>\n",
       "      <td>5.375908e+04</td>\n",
       "      <td>1.125000e+03</td>\n",
       "    </tr>\n",
       "    <tr>\n",
       "      <th>max</th>\n",
       "      <td>1.150355e+08</td>\n",
       "      <td>1.560035e+06</td>\n",
       "    </tr>\n",
       "  </tbody>\n",
       "</table>\n",
       "</div>"
      ],
      "text/plain": [
       "       CustAccountBalance  TransactionAmount (INR)\n",
       "count        9.853220e+05             9.853220e+05\n",
       "mean         1.060612e+05             1.452425e+03\n",
       "std          8.179054e+05             6.139765e+03\n",
       "min          0.000000e+00             0.000000e+00\n",
       "25%          4.582132e+03             1.510000e+02\n",
       "50%          1.600630e+04             4.310000e+02\n",
       "75%          5.375908e+04             1.125000e+03\n",
       "max          1.150355e+08             1.560035e+06"
      ]
     },
     "execution_count": 31,
     "metadata": {},
     "output_type": "execute_result"
    }
   ],
   "source": [
    "df[['CustAccountBalance','TransactionAmount (INR)']].describe()"
   ]
  },
  {
   "cell_type": "markdown",
   "id": "69bd4383",
   "metadata": {},
   "source": [
    "#### Upon quick inspection transaction dates shows that all transactions took place in 2016 in August, September, and October"
   ]
  },
  {
   "cell_type": "code",
   "execution_count": 32,
   "id": "3d000e7b",
   "metadata": {},
   "outputs": [
    {
     "data": {
      "text/plain": [
       "7/8/16      26022\n",
       "13/8/16     25478\n",
       "4/9/16      25392\n",
       "6/8/16      25267\n",
       "3/9/16      25102\n",
       "10/9/16     24424\n",
       "11/9/16     24308\n",
       "14/8/16     24262\n",
       "15/8/16     23001\n",
       "21/8/16     21655\n",
       "2/9/16      21541\n",
       "12/8/16     21115\n",
       "1/9/16      21019\n",
       "9/8/16      20489\n",
       "11/8/16     20461\n",
       "8/9/16      20447\n",
       "10/8/16     20352\n",
       "9/9/16      20308\n",
       "27/8/16     20130\n",
       "20/8/16     20031\n",
       "5/9/16      20024\n",
       "7/9/16      19904\n",
       "5/8/16      19890\n",
       "28/8/16     19874\n",
       "17/8/16     19763\n",
       "8/8/16      19647\n",
       "2/8/16      19631\n",
       "4/8/16      19428\n",
       "13/9/16     19391\n",
       "12/9/16     19385\n",
       "3/8/16      19274\n",
       "1/8/16      19213\n",
       "16/8/16     19065\n",
       "14/9/16     18573\n",
       "15/9/16     18482\n",
       "6/9/16      18440\n",
       "31/8/16     18368\n",
       "18/8/16     18302\n",
       "19/8/16     17394\n",
       "22/8/16     17339\n",
       "25/8/16     17335\n",
       "24/8/16     16647\n",
       "26/8/16     16463\n",
       "30/8/16     16119\n",
       "23/8/16     16056\n",
       "29/8/16     15534\n",
       "18/9/16     13902\n",
       "26/9/16     11541\n",
       "25/9/16      7766\n",
       "27/9/16      6910\n",
       "22/9/16      6350\n",
       "21/10/16     3408\n",
       "23/9/16      3276\n",
       "30/9/16      1822\n",
       "16/10/16        2\n",
       "Name: TransactionDate, dtype: int64"
      ]
     },
     "execution_count": 32,
     "metadata": {},
     "output_type": "execute_result"
    }
   ],
   "source": [
    "df['TransactionDate'].value_counts()"
   ]
  },
  {
   "cell_type": "markdown",
   "id": "4b246d14",
   "metadata": {},
   "source": [
    "#### Convert date columns from strings to datetime objects"
   ]
  },
  {
   "cell_type": "code",
   "execution_count": 33,
   "id": "077a553b",
   "metadata": {
    "scrolled": true
   },
   "outputs": [
    {
     "data": {
      "text/html": [
       "<div>\n",
       "<style scoped>\n",
       "    .dataframe tbody tr th:only-of-type {\n",
       "        vertical-align: middle;\n",
       "    }\n",
       "\n",
       "    .dataframe tbody tr th {\n",
       "        vertical-align: top;\n",
       "    }\n",
       "\n",
       "    .dataframe thead th {\n",
       "        text-align: right;\n",
       "    }\n",
       "</style>\n",
       "<table border=\"1\" class=\"dataframe\">\n",
       "  <thead>\n",
       "    <tr style=\"text-align: right;\">\n",
       "      <th></th>\n",
       "      <th>TransactionID</th>\n",
       "      <th>CustomerID</th>\n",
       "      <th>CustomerDOB</th>\n",
       "      <th>CustGender</th>\n",
       "      <th>CustLocation</th>\n",
       "      <th>CustAccountBalance</th>\n",
       "      <th>TransactionDate</th>\n",
       "      <th>TransactionTime</th>\n",
       "      <th>TransactionAmount (INR)</th>\n",
       "    </tr>\n",
       "  </thead>\n",
       "  <tbody>\n",
       "    <tr>\n",
       "      <th>0</th>\n",
       "      <td>T1</td>\n",
       "      <td>C5841053</td>\n",
       "      <td>1994-01-10</td>\n",
       "      <td>F</td>\n",
       "      <td>JAMSHEDPUR</td>\n",
       "      <td>17819.05</td>\n",
       "      <td>2016-08-02</td>\n",
       "      <td>143207</td>\n",
       "      <td>25.0</td>\n",
       "    </tr>\n",
       "    <tr>\n",
       "      <th>1</th>\n",
       "      <td>T2</td>\n",
       "      <td>C2142763</td>\n",
       "      <td>2057-04-04</td>\n",
       "      <td>M</td>\n",
       "      <td>JHAJJAR</td>\n",
       "      <td>2270.69</td>\n",
       "      <td>2016-08-02</td>\n",
       "      <td>141858</td>\n",
       "      <td>27999.0</td>\n",
       "    </tr>\n",
       "    <tr>\n",
       "      <th>2</th>\n",
       "      <td>T3</td>\n",
       "      <td>C4417068</td>\n",
       "      <td>1996-11-26</td>\n",
       "      <td>F</td>\n",
       "      <td>MUMBAI</td>\n",
       "      <td>17874.44</td>\n",
       "      <td>2016-08-02</td>\n",
       "      <td>142712</td>\n",
       "      <td>459.0</td>\n",
       "    </tr>\n",
       "    <tr>\n",
       "      <th>3</th>\n",
       "      <td>T4</td>\n",
       "      <td>C5342380</td>\n",
       "      <td>1973-09-14</td>\n",
       "      <td>F</td>\n",
       "      <td>MUMBAI</td>\n",
       "      <td>866503.21</td>\n",
       "      <td>2016-08-02</td>\n",
       "      <td>142714</td>\n",
       "      <td>2060.0</td>\n",
       "    </tr>\n",
       "    <tr>\n",
       "      <th>4</th>\n",
       "      <td>T5</td>\n",
       "      <td>C9031234</td>\n",
       "      <td>1988-03-24</td>\n",
       "      <td>F</td>\n",
       "      <td>NAVI MUMBAI</td>\n",
       "      <td>6714.43</td>\n",
       "      <td>2016-08-02</td>\n",
       "      <td>181156</td>\n",
       "      <td>1762.5</td>\n",
       "    </tr>\n",
       "  </tbody>\n",
       "</table>\n",
       "</div>"
      ],
      "text/plain": [
       "  TransactionID CustomerID CustomerDOB CustGender CustLocation  \\\n",
       "0            T1   C5841053  1994-01-10          F   JAMSHEDPUR   \n",
       "1            T2   C2142763  2057-04-04          M      JHAJJAR   \n",
       "2            T3   C4417068  1996-11-26          F       MUMBAI   \n",
       "3            T4   C5342380  1973-09-14          F       MUMBAI   \n",
       "4            T5   C9031234  1988-03-24          F  NAVI MUMBAI   \n",
       "\n",
       "   CustAccountBalance TransactionDate  TransactionTime  \\\n",
       "0            17819.05      2016-08-02           143207   \n",
       "1             2270.69      2016-08-02           141858   \n",
       "2            17874.44      2016-08-02           142712   \n",
       "3           866503.21      2016-08-02           142714   \n",
       "4             6714.43      2016-08-02           181156   \n",
       "\n",
       "   TransactionAmount (INR)  \n",
       "0                     25.0  \n",
       "1                  27999.0  \n",
       "2                    459.0  \n",
       "3                   2060.0  \n",
       "4                   1762.5  "
      ]
     },
     "execution_count": 33,
     "metadata": {},
     "output_type": "execute_result"
    }
   ],
   "source": [
    "df['CustomerDOB'] = pd.to_datetime(df['CustomerDOB'], format = '%d/%m/%y')\n",
    "df['TransactionDate'] = pd.to_datetime(df['TransactionDate'], format = '%d/%m/%y')\n",
    "df.head()"
   ]
  },
  {
   "cell_type": "markdown",
   "id": "1c57674a",
   "metadata": {},
   "source": [
    "#### The to_datetime function will map years 0-68 to the 2000s instead of the1900s. We will search for these values and replace them. Since all of our transactions took place in 2016, we will assume every customer is over the age of 17"
   ]
  },
  {
   "cell_type": "code",
   "execution_count": 34,
   "id": "c40fd7ce",
   "metadata": {},
   "outputs": [
    {
     "data": {
      "text/plain": [
       "1990    72616\n",
       "1991    71185\n",
       "1989    69156\n",
       "1992    66484\n",
       "1988    62905\n",
       "        ...  \n",
       "1920        2\n",
       "1911        2\n",
       "1916        2\n",
       "1925        1\n",
       "1918        1\n",
       "Name: CustomerDOB, Length: 99, dtype: int64"
      ]
     },
     "execution_count": 34,
     "metadata": {},
     "output_type": "execute_result"
    }
   ],
   "source": [
    "df.loc[df['CustomerDOB'].dt.year >= 2000, ['CustomerDOB']] -= pd.DateOffset(years = 100)\n",
    "df['CustomerDOB'].dt.year.value_counts()"
   ]
  },
  {
   "cell_type": "markdown",
   "id": "9aa0e6ab",
   "metadata": {},
   "source": [
    "#### From the dataset we will engineer the following features: Age, TransactionDay, TotalTransactions. It is important to note that age will be determined relative to the first transaction date and does not account for leap years"
   ]
  },
  {
   "cell_type": "code",
   "execution_count": 35,
   "id": "2ad04ccf",
   "metadata": {
    "scrolled": true
   },
   "outputs": [],
   "source": [
    "df['Age'] = (df['TransactionDate'][0] - df['CustomerDOB'])/np.timedelta64(1, 'Y')"
   ]
  },
  {
   "cell_type": "code",
   "execution_count": 36,
   "id": "0b696133",
   "metadata": {},
   "outputs": [],
   "source": [
    "#extract the weekday from transaction date\n",
    "df['TransactionDay'] = df['TransactionDate'].dt.strftime('%A')\n",
    "df['TransactionMonth'] = df['TransactionDate'].dt.strftime('%B')"
   ]
  },
  {
   "cell_type": "code",
   "execution_count": 37,
   "id": "93749e71",
   "metadata": {
    "scrolled": true
   },
   "outputs": [
    {
     "data": {
      "text/html": [
       "<div>\n",
       "<style scoped>\n",
       "    .dataframe tbody tr th:only-of-type {\n",
       "        vertical-align: middle;\n",
       "    }\n",
       "\n",
       "    .dataframe tbody tr th {\n",
       "        vertical-align: top;\n",
       "    }\n",
       "\n",
       "    .dataframe thead th {\n",
       "        text-align: right;\n",
       "    }\n",
       "</style>\n",
       "<table border=\"1\" class=\"dataframe\">\n",
       "  <thead>\n",
       "    <tr style=\"text-align: right;\">\n",
       "      <th></th>\n",
       "      <th>TransactionID</th>\n",
       "      <th>CustomerID</th>\n",
       "      <th>CustomerDOB</th>\n",
       "      <th>CustGender</th>\n",
       "      <th>CustLocation</th>\n",
       "      <th>CustAccountBalance</th>\n",
       "      <th>TransactionDate</th>\n",
       "      <th>TransactionTime</th>\n",
       "      <th>TransactionAmount (INR)</th>\n",
       "      <th>Age</th>\n",
       "      <th>TransactionDay</th>\n",
       "      <th>TransactionMonth</th>\n",
       "      <th>TotalTransactions</th>\n",
       "    </tr>\n",
       "  </thead>\n",
       "  <tbody>\n",
       "    <tr>\n",
       "      <th>0</th>\n",
       "      <td>T1</td>\n",
       "      <td>C5841053</td>\n",
       "      <td>1994-01-10</td>\n",
       "      <td>F</td>\n",
       "      <td>JAMSHEDPUR</td>\n",
       "      <td>17819.05</td>\n",
       "      <td>2016-08-02</td>\n",
       "      <td>143207</td>\n",
       "      <td>25.0</td>\n",
       "      <td>22.560354</td>\n",
       "      <td>Tuesday</td>\n",
       "      <td>August</td>\n",
       "      <td>1</td>\n",
       "    </tr>\n",
       "    <tr>\n",
       "      <th>1</th>\n",
       "      <td>T2</td>\n",
       "      <td>C2142763</td>\n",
       "      <td>1957-04-04</td>\n",
       "      <td>M</td>\n",
       "      <td>JHAJJAR</td>\n",
       "      <td>2270.69</td>\n",
       "      <td>2016-08-02</td>\n",
       "      <td>141858</td>\n",
       "      <td>27999.0</td>\n",
       "      <td>59.330445</td>\n",
       "      <td>Tuesday</td>\n",
       "      <td>August</td>\n",
       "      <td>1</td>\n",
       "    </tr>\n",
       "    <tr>\n",
       "      <th>2</th>\n",
       "      <td>T3</td>\n",
       "      <td>C4417068</td>\n",
       "      <td>1996-11-26</td>\n",
       "      <td>F</td>\n",
       "      <td>MUMBAI</td>\n",
       "      <td>17874.44</td>\n",
       "      <td>2016-08-02</td>\n",
       "      <td>142712</td>\n",
       "      <td>459.0</td>\n",
       "      <td>19.682813</td>\n",
       "      <td>Tuesday</td>\n",
       "      <td>August</td>\n",
       "      <td>1</td>\n",
       "    </tr>\n",
       "    <tr>\n",
       "      <th>3</th>\n",
       "      <td>T4</td>\n",
       "      <td>C5342380</td>\n",
       "      <td>1973-09-14</td>\n",
       "      <td>F</td>\n",
       "      <td>MUMBAI</td>\n",
       "      <td>866503.21</td>\n",
       "      <td>2016-08-02</td>\n",
       "      <td>142714</td>\n",
       "      <td>2060.0</td>\n",
       "      <td>42.883837</td>\n",
       "      <td>Tuesday</td>\n",
       "      <td>August</td>\n",
       "      <td>2</td>\n",
       "    </tr>\n",
       "    <tr>\n",
       "      <th>4</th>\n",
       "      <td>T5</td>\n",
       "      <td>C9031234</td>\n",
       "      <td>1988-03-24</td>\n",
       "      <td>F</td>\n",
       "      <td>NAVI MUMBAI</td>\n",
       "      <td>6714.43</td>\n",
       "      <td>2016-08-02</td>\n",
       "      <td>181156</td>\n",
       "      <td>1762.5</td>\n",
       "      <td>28.359241</td>\n",
       "      <td>Tuesday</td>\n",
       "      <td>August</td>\n",
       "      <td>1</td>\n",
       "    </tr>\n",
       "  </tbody>\n",
       "</table>\n",
       "</div>"
      ],
      "text/plain": [
       "  TransactionID CustomerID CustomerDOB CustGender CustLocation  \\\n",
       "0            T1   C5841053  1994-01-10          F   JAMSHEDPUR   \n",
       "1            T2   C2142763  1957-04-04          M      JHAJJAR   \n",
       "2            T3   C4417068  1996-11-26          F       MUMBAI   \n",
       "3            T4   C5342380  1973-09-14          F       MUMBAI   \n",
       "4            T5   C9031234  1988-03-24          F  NAVI MUMBAI   \n",
       "\n",
       "   CustAccountBalance TransactionDate  TransactionTime  \\\n",
       "0            17819.05      2016-08-02           143207   \n",
       "1             2270.69      2016-08-02           141858   \n",
       "2            17874.44      2016-08-02           142712   \n",
       "3           866503.21      2016-08-02           142714   \n",
       "4             6714.43      2016-08-02           181156   \n",
       "\n",
       "   TransactionAmount (INR)        Age TransactionDay TransactionMonth  \\\n",
       "0                     25.0  22.560354        Tuesday           August   \n",
       "1                  27999.0  59.330445        Tuesday           August   \n",
       "2                    459.0  19.682813        Tuesday           August   \n",
       "3                   2060.0  42.883837        Tuesday           August   \n",
       "4                   1762.5  28.359241        Tuesday           August   \n",
       "\n",
       "   TotalTransactions  \n",
       "0                  1  \n",
       "1                  1  \n",
       "2                  1  \n",
       "3                  2  \n",
       "4                  1  "
      ]
     },
     "execution_count": 37,
     "metadata": {},
     "output_type": "execute_result"
    }
   ],
   "source": [
    "#extract the total number of transactions for each customer over time period\n",
    "count = df['CustomerID'].value_counts()\n",
    "\n",
    "column = []\n",
    "\n",
    "for ind, row in df.iterrows():\n",
    "    custID = row['CustomerID']\n",
    "    column.append(count[custID])\n",
    "    \n",
    "df['TotalTransactions'] = column\n",
    "df.head()"
   ]
  },
  {
   "cell_type": "markdown",
   "id": "a28c4ba6",
   "metadata": {},
   "source": [
    "#### Now that we have created the desired features, we will drop columns that are no longer necessary for analysis. We will drop, CustomerID, CustomerDOB and TransactionTime"
   ]
  },
  {
   "cell_type": "code",
   "execution_count": 38,
   "id": "6dbdae45",
   "metadata": {},
   "outputs": [
    {
     "data": {
      "text/html": [
       "<div>\n",
       "<style scoped>\n",
       "    .dataframe tbody tr th:only-of-type {\n",
       "        vertical-align: middle;\n",
       "    }\n",
       "\n",
       "    .dataframe tbody tr th {\n",
       "        vertical-align: top;\n",
       "    }\n",
       "\n",
       "    .dataframe thead th {\n",
       "        text-align: right;\n",
       "    }\n",
       "</style>\n",
       "<table border=\"1\" class=\"dataframe\">\n",
       "  <thead>\n",
       "    <tr style=\"text-align: right;\">\n",
       "      <th></th>\n",
       "      <th>CustGender</th>\n",
       "      <th>CustLocation</th>\n",
       "      <th>CustAccountBalance</th>\n",
       "      <th>TransactionDate</th>\n",
       "      <th>TransactionAmount (INR)</th>\n",
       "      <th>Age</th>\n",
       "      <th>TransactionDay</th>\n",
       "      <th>TransactionMonth</th>\n",
       "      <th>TotalTransactions</th>\n",
       "    </tr>\n",
       "  </thead>\n",
       "  <tbody>\n",
       "    <tr>\n",
       "      <th>0</th>\n",
       "      <td>F</td>\n",
       "      <td>JAMSHEDPUR</td>\n",
       "      <td>17819.05</td>\n",
       "      <td>2016-08-02</td>\n",
       "      <td>25.0</td>\n",
       "      <td>22.560354</td>\n",
       "      <td>Tuesday</td>\n",
       "      <td>August</td>\n",
       "      <td>1</td>\n",
       "    </tr>\n",
       "    <tr>\n",
       "      <th>1</th>\n",
       "      <td>M</td>\n",
       "      <td>JHAJJAR</td>\n",
       "      <td>2270.69</td>\n",
       "      <td>2016-08-02</td>\n",
       "      <td>27999.0</td>\n",
       "      <td>59.330445</td>\n",
       "      <td>Tuesday</td>\n",
       "      <td>August</td>\n",
       "      <td>1</td>\n",
       "    </tr>\n",
       "    <tr>\n",
       "      <th>2</th>\n",
       "      <td>F</td>\n",
       "      <td>MUMBAI</td>\n",
       "      <td>17874.44</td>\n",
       "      <td>2016-08-02</td>\n",
       "      <td>459.0</td>\n",
       "      <td>19.682813</td>\n",
       "      <td>Tuesday</td>\n",
       "      <td>August</td>\n",
       "      <td>1</td>\n",
       "    </tr>\n",
       "    <tr>\n",
       "      <th>3</th>\n",
       "      <td>F</td>\n",
       "      <td>MUMBAI</td>\n",
       "      <td>866503.21</td>\n",
       "      <td>2016-08-02</td>\n",
       "      <td>2060.0</td>\n",
       "      <td>42.883837</td>\n",
       "      <td>Tuesday</td>\n",
       "      <td>August</td>\n",
       "      <td>2</td>\n",
       "    </tr>\n",
       "    <tr>\n",
       "      <th>4</th>\n",
       "      <td>F</td>\n",
       "      <td>NAVI MUMBAI</td>\n",
       "      <td>6714.43</td>\n",
       "      <td>2016-08-02</td>\n",
       "      <td>1762.5</td>\n",
       "      <td>28.359241</td>\n",
       "      <td>Tuesday</td>\n",
       "      <td>August</td>\n",
       "      <td>1</td>\n",
       "    </tr>\n",
       "  </tbody>\n",
       "</table>\n",
       "</div>"
      ],
      "text/plain": [
       "  CustGender CustLocation  CustAccountBalance TransactionDate  \\\n",
       "0          F   JAMSHEDPUR            17819.05      2016-08-02   \n",
       "1          M      JHAJJAR             2270.69      2016-08-02   \n",
       "2          F       MUMBAI            17874.44      2016-08-02   \n",
       "3          F       MUMBAI           866503.21      2016-08-02   \n",
       "4          F  NAVI MUMBAI             6714.43      2016-08-02   \n",
       "\n",
       "   TransactionAmount (INR)        Age TransactionDay TransactionMonth  \\\n",
       "0                     25.0  22.560354        Tuesday           August   \n",
       "1                  27999.0  59.330445        Tuesday           August   \n",
       "2                    459.0  19.682813        Tuesday           August   \n",
       "3                   2060.0  42.883837        Tuesday           August   \n",
       "4                   1762.5  28.359241        Tuesday           August   \n",
       "\n",
       "   TotalTransactions  \n",
       "0                  1  \n",
       "1                  1  \n",
       "2                  1  \n",
       "3                  2  \n",
       "4                  1  "
      ]
     },
     "execution_count": 38,
     "metadata": {},
     "output_type": "execute_result"
    }
   ],
   "source": [
    "df2 = df.drop(columns = ['TransactionID','CustomerID','TransactionTime', 'CustomerDOB'])\n",
    "df2.head()"
   ]
  },
  {
   "cell_type": "markdown",
   "id": "d5a9c2e8",
   "metadata": {},
   "source": [
    "### Exploratory Data Analysis"
   ]
  },
  {
   "cell_type": "code",
   "execution_count": null,
   "id": "5071d5ff",
   "metadata": {},
   "outputs": [],
   "source": []
  }
 ],
 "metadata": {
  "kernelspec": {
   "display_name": "Python 3 (ipykernel)",
   "language": "python",
   "name": "python3"
  },
  "language_info": {
   "codemirror_mode": {
    "name": "ipython",
    "version": 3
   },
   "file_extension": ".py",
   "mimetype": "text/x-python",
   "name": "python",
   "nbconvert_exporter": "python",
   "pygments_lexer": "ipython3",
   "version": "3.9.12"
  }
 },
 "nbformat": 4,
 "nbformat_minor": 5
}
